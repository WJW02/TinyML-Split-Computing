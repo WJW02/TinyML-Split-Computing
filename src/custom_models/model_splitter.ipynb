{
 "cells": [
  {
   "metadata": {
    "ExecuteTime": {
     "end_time": "2024-09-08T18:24:14.345766Z",
     "start_time": "2024-09-08T18:24:14.337103Z"
    }
   },
   "cell_type": "code",
   "source": [
    "import os\n",
    "\n",
    "import tensorflow as tf\n",
    "from tensorflow.keras import Input\n",
    "from tensorflow.keras import layers\n",
    "from tensorflow.keras.models import Model\n",
    "\n",
    "main_folder = (\"models/resnet_model\")\n",
    "os.makedirs(f\"{main_folder}/layers/keras/\", exist_ok=True)\n",
    "os.makedirs(f\"{main_folder}/layers/tflite/\", exist_ok=True)"
   ],
   "id": "3c75d9911570f740",
   "outputs": [],
   "execution_count": 82
  },
  {
   "metadata": {
    "ExecuteTime": {
     "end_time": "2024-09-08T18:24:14.363730Z",
     "start_time": "2024-09-08T18:24:14.352068Z"
    }
   },
   "cell_type": "code",
   "source": [
    "def to_tflite(keras_model, save, save_dir, name):\n",
    "    # Convert the Keras model to TensorFlow Lite format\n",
    "    converter = tf.lite.TFLiteConverter.from_keras_model(keras_model)\n",
    "    tflite_model = converter.convert()\n",
    "    if save:\n",
    "        with open(f\"{save_dir}/{name}.tflite\", 'wb') as f:\n",
    "            f.write(tflite_model)\n",
    "    return tflite_model\n",
    "\n",
    "def save_keras(name, model, dir_path):\n",
    "    model.save(f'{dir_path}/{name}.keras')\n",
    "\n",
    "def load_keras(name, dir_path):\n",
    "    return tf.keras.models.load_model(f'{dir_path}/{name}.keras')\n",
    "\n",
    "def create_keras_submodels(save_dir, model):\n",
    "    submodels = {}\n",
    "    \n",
    "    # Start with the input tensor\n",
    "    input_tensor = Input(shape=model.input_shape[1:])\n",
    "    x = input_tensor\n",
    "\n",
    "    # Iterate through layers and create submodels\n",
    "    for i, layer in enumerate(model.layers):\n",
    "        # Pass the input tensor through each layer sequentially\n",
    "        x = layer(x)\n",
    "        \n",
    "        # Create the submodel from the input tensor to the current layer's output\n",
    "        submodel = Model(inputs=input_tensor, outputs=x)\n",
    "        submodels[layer.name] = submodel\n",
    "        \n",
    "        # Save each submodel to a file\n",
    "        submodel.save(f'{save_dir}/submodel_{i}.keras')\n",
    "        print(f\"Created Submodel for layer: {layer.name}\")\n",
    "    \n",
    "    return submodels\n",
    "\n",
    "    \n",
    "\n",
    "    \n",
    "def residual_block(x, filters, kernel_size=3, stride=1):\n",
    "    # Shortcut\n",
    "    shortcut = x\n",
    "    \n",
    "    # First convolution\n",
    "    x = layers.Conv2D(filters, kernel_size=kernel_size, strides=stride, padding='same', use_bias=False)(x)\n",
    "    x = layers.BatchNormalization()(x)\n",
    "    x = layers.ReLU()(x)\n",
    "    \n",
    "    # Second convolution\n",
    "    x = layers.Conv2D(filters, kernel_size=kernel_size, strides=stride, padding='same', use_bias=False)(x)\n",
    "    x = layers.BatchNormalization()(x)\n",
    "    \n",
    "    # Add shortcut to the block output\n",
    "    x = layers.add([x, shortcut])\n",
    "    x = layers.ReLU()(x)\n",
    "    \n",
    "    return x\n",
    "\n",
    "def build_resnet_from_scratch(img_height=224, img_width=224, num_classes=5):\n",
    "    #inputs = layers.Input(shape=(img_height, img_width, 3))\n",
    "    model = tf.keras.models.Sequential()\n",
    "    \n",
    "    # Initial Conv Layer\n",
    "    model.add(layers.Conv2D(64, kernel_size=7, strides=2, padding='same', input_shape=(img_height, img_width, 3)))\n",
    "    model.add(layers.BatchNormalization())\n",
    "    model.add(layers.ReLU())\n",
    "    model.add(layers.MaxPooling2D(pool_size=3, strides=2, padding='same'))\n",
    "    \n",
    "    model.add(layers.Dense(num_classes, activation='softmax'))\n",
    "    \n",
    "    return model"
   ],
   "id": "8ac7efe031c6eba",
   "outputs": [],
   "execution_count": 83
  },
  {
   "metadata": {
    "ExecuteTime": {
     "end_time": "2024-09-08T18:24:16.936754Z",
     "start_time": "2024-09-08T18:24:14.382745Z"
    }
   },
   "cell_type": "code",
   "source": [
    "# Build the model\n",
    "model = build_resnet_from_scratch()\n",
    "\n",
    "# Save the model\n",
    "save_keras(name=\"resnet_model\", model=model, dir_path=main_folder)\n",
    "\n",
    "# Load the model\n",
    "model = load_keras(name=\"resnet_model\", dir_path=main_folder)\n",
    "\n",
    "# Create and save submodels\n",
    "submodels = create_keras_submodels(model=model, save_dir=f\"{main_folder}/layers/keras\")\n",
    "\n",
    "# Convert and save each submodel to TensorFlow Lite format\n",
    "layer_index = 0\n",
    "for model_name, model in submodels.items():\n",
    "    to_tflite(model, save=True, save_dir=f\"{main_folder}/layers/tflite\", name=f\"submodel_{layer_index}\")\n",
    "    layer_index +=1\n",
    "    \n",
    "print(\"All submodels converted to TensorFlow Lite format\")"
   ],
   "id": "6071c06531f998fd",
   "outputs": [
    {
     "name": "stdout",
     "output_type": "stream",
     "text": [
      "Created Submodel for layer: conv2d_228\n",
      "Created Submodel for layer: batch_normalization_201\n",
      "Created Submodel for layer: re_lu_26\n",
      "Created Submodel for layer: max_pooling2d_21\n",
      "Created Submodel for layer: dense_36\n",
      "INFO:tensorflow:Assets written to: C:\\Users\\fabio\\AppData\\Local\\Temp\\tmpq2s5xeq3\\assets\n"
     ]
    },
    {
     "name": "stderr",
     "output_type": "stream",
     "text": [
      "INFO:tensorflow:Assets written to: C:\\Users\\fabio\\AppData\\Local\\Temp\\tmpq2s5xeq3\\assets\n"
     ]
    },
    {
     "name": "stdout",
     "output_type": "stream",
     "text": [
      "Saved artifact at 'C:\\Users\\fabio\\AppData\\Local\\Temp\\tmpq2s5xeq3'. The following endpoints are available:\n",
      "\n",
      "* Endpoint 'serve'\n",
      "  args_0 (POSITIONAL_ONLY): TensorSpec(shape=(None, 224, 224, 3), dtype=tf.float32, name='keras_tensor_3997')\n",
      "Output Type:\n",
      "  TensorSpec(shape=(None, 112, 112, 64), dtype=tf.float32, name=None)\n",
      "Captures:\n",
      "  1778377583184: TensorSpec(shape=(), dtype=tf.resource, name=None)\n",
      "  1778377583568: TensorSpec(shape=(), dtype=tf.resource, name=None)\n",
      "INFO:tensorflow:Assets written to: C:\\Users\\fabio\\AppData\\Local\\Temp\\tmpn660lp7q\\assets\n"
     ]
    },
    {
     "name": "stderr",
     "output_type": "stream",
     "text": [
      "INFO:tensorflow:Assets written to: C:\\Users\\fabio\\AppData\\Local\\Temp\\tmpn660lp7q\\assets\n"
     ]
    },
    {
     "name": "stdout",
     "output_type": "stream",
     "text": [
      "Saved artifact at 'C:\\Users\\fabio\\AppData\\Local\\Temp\\tmpn660lp7q'. The following endpoints are available:\n",
      "\n",
      "* Endpoint 'serve'\n",
      "  args_0 (POSITIONAL_ONLY): TensorSpec(shape=(None, 224, 224, 3), dtype=tf.float32, name='keras_tensor_3997')\n",
      "Output Type:\n",
      "  TensorSpec(shape=(None, 112, 112, 64), dtype=tf.float32, name=None)\n",
      "Captures:\n",
      "  1778377583184: TensorSpec(shape=(), dtype=tf.resource, name=None)\n",
      "  1778377583568: TensorSpec(shape=(), dtype=tf.resource, name=None)\n",
      "  1778377586832: TensorSpec(shape=(), dtype=tf.resource, name=None)\n",
      "  1778377586448: TensorSpec(shape=(), dtype=tf.resource, name=None)\n",
      "  1778377586256: TensorSpec(shape=(), dtype=tf.resource, name=None)\n",
      "  1778377572816: TensorSpec(shape=(), dtype=tf.resource, name=None)\n",
      "INFO:tensorflow:Assets written to: C:\\Users\\fabio\\AppData\\Local\\Temp\\tmpob6q018t\\assets\n"
     ]
    },
    {
     "name": "stderr",
     "output_type": "stream",
     "text": [
      "INFO:tensorflow:Assets written to: C:\\Users\\fabio\\AppData\\Local\\Temp\\tmpob6q018t\\assets\n"
     ]
    },
    {
     "name": "stdout",
     "output_type": "stream",
     "text": [
      "Saved artifact at 'C:\\Users\\fabio\\AppData\\Local\\Temp\\tmpob6q018t'. The following endpoints are available:\n",
      "\n",
      "* Endpoint 'serve'\n",
      "  args_0 (POSITIONAL_ONLY): TensorSpec(shape=(None, 224, 224, 3), dtype=tf.float32, name='keras_tensor_3997')\n",
      "Output Type:\n",
      "  TensorSpec(shape=(None, 112, 112, 64), dtype=tf.float32, name=None)\n",
      "Captures:\n",
      "  1778377583184: TensorSpec(shape=(), dtype=tf.resource, name=None)\n",
      "  1778377583568: TensorSpec(shape=(), dtype=tf.resource, name=None)\n",
      "  1778377586832: TensorSpec(shape=(), dtype=tf.resource, name=None)\n",
      "  1778377586448: TensorSpec(shape=(), dtype=tf.resource, name=None)\n",
      "  1778377586256: TensorSpec(shape=(), dtype=tf.resource, name=None)\n",
      "  1778377572816: TensorSpec(shape=(), dtype=tf.resource, name=None)\n",
      "INFO:tensorflow:Assets written to: C:\\Users\\fabio\\AppData\\Local\\Temp\\tmp8v61lrb_\\assets\n"
     ]
    },
    {
     "name": "stderr",
     "output_type": "stream",
     "text": [
      "INFO:tensorflow:Assets written to: C:\\Users\\fabio\\AppData\\Local\\Temp\\tmp8v61lrb_\\assets\n"
     ]
    },
    {
     "name": "stdout",
     "output_type": "stream",
     "text": [
      "Saved artifact at 'C:\\Users\\fabio\\AppData\\Local\\Temp\\tmp8v61lrb_'. The following endpoints are available:\n",
      "\n",
      "* Endpoint 'serve'\n",
      "  args_0 (POSITIONAL_ONLY): TensorSpec(shape=(None, 224, 224, 3), dtype=tf.float32, name='keras_tensor_3997')\n",
      "Output Type:\n",
      "  TensorSpec(shape=(None, 56, 56, 64), dtype=tf.float32, name=None)\n",
      "Captures:\n",
      "  1778377583184: TensorSpec(shape=(), dtype=tf.resource, name=None)\n",
      "  1778377583568: TensorSpec(shape=(), dtype=tf.resource, name=None)\n",
      "  1778377586832: TensorSpec(shape=(), dtype=tf.resource, name=None)\n",
      "  1778377586448: TensorSpec(shape=(), dtype=tf.resource, name=None)\n",
      "  1778377586256: TensorSpec(shape=(), dtype=tf.resource, name=None)\n",
      "  1778377572816: TensorSpec(shape=(), dtype=tf.resource, name=None)\n",
      "INFO:tensorflow:Assets written to: C:\\Users\\fabio\\AppData\\Local\\Temp\\tmpt7jf87rl\\assets\n"
     ]
    },
    {
     "name": "stderr",
     "output_type": "stream",
     "text": [
      "INFO:tensorflow:Assets written to: C:\\Users\\fabio\\AppData\\Local\\Temp\\tmpt7jf87rl\\assets\n"
     ]
    },
    {
     "name": "stdout",
     "output_type": "stream",
     "text": [
      "Saved artifact at 'C:\\Users\\fabio\\AppData\\Local\\Temp\\tmpt7jf87rl'. The following endpoints are available:\n",
      "\n",
      "* Endpoint 'serve'\n",
      "  args_0 (POSITIONAL_ONLY): TensorSpec(shape=(None, 224, 224, 3), dtype=tf.float32, name='keras_tensor_3997')\n",
      "Output Type:\n",
      "  TensorSpec(shape=(None, 56, 56, 5), dtype=tf.float32, name=None)\n",
      "Captures:\n",
      "  1778377583184: TensorSpec(shape=(), dtype=tf.resource, name=None)\n",
      "  1778377583568: TensorSpec(shape=(), dtype=tf.resource, name=None)\n",
      "  1778377586832: TensorSpec(shape=(), dtype=tf.resource, name=None)\n",
      "  1778377586448: TensorSpec(shape=(), dtype=tf.resource, name=None)\n",
      "  1778377586256: TensorSpec(shape=(), dtype=tf.resource, name=None)\n",
      "  1778377572816: TensorSpec(shape=(), dtype=tf.resource, name=None)\n",
      "  1778377583760: TensorSpec(shape=(), dtype=tf.resource, name=None)\n",
      "  1778377588368: TensorSpec(shape=(), dtype=tf.resource, name=None)\n",
      "All submodels converted to TensorFlow Lite format\n"
     ]
    }
   ],
   "execution_count": 84
  },
  {
   "metadata": {
    "ExecuteTime": {
     "end_time": "2024-09-08T18:24:16.956834Z",
     "start_time": "2024-09-08T18:24:16.938763Z"
    }
   },
   "cell_type": "code",
   "source": "model.summary()",
   "id": "34ae0fa5b1377948",
   "outputs": [
    {
     "data": {
      "text/plain": [
       "\u001B[1mModel: \"functional_170\"\u001B[0m\n"
      ],
      "text/html": [
       "<pre style=\"white-space:pre;overflow-x:auto;line-height:normal;font-family:Menlo,'DejaVu Sans Mono',consolas,'Courier New',monospace\"><span style=\"font-weight: bold\">Model: \"functional_170\"</span>\n",
       "</pre>\n"
      ]
     },
     "metadata": {},
     "output_type": "display_data"
    },
    {
     "data": {
      "text/plain": [
       "┏━━━━━━━━━━━━━━━━━━━━━━━━━━━━━━━━━┳━━━━━━━━━━━━━━━━━━━━━━━━┳━━━━━━━━━━━━━━━┓\n",
       "┃\u001B[1m \u001B[0m\u001B[1mLayer (type)                   \u001B[0m\u001B[1m \u001B[0m┃\u001B[1m \u001B[0m\u001B[1mOutput Shape          \u001B[0m\u001B[1m \u001B[0m┃\u001B[1m \u001B[0m\u001B[1m      Param #\u001B[0m\u001B[1m \u001B[0m┃\n",
       "┡━━━━━━━━━━━━━━━━━━━━━━━━━━━━━━━━━╇━━━━━━━━━━━━━━━━━━━━━━━━╇━━━━━━━━━━━━━━━┩\n",
       "│ input_layer_57 (\u001B[38;5;33mInputLayer\u001B[0m)     │ (\u001B[38;5;45mNone\u001B[0m, \u001B[38;5;34m224\u001B[0m, \u001B[38;5;34m224\u001B[0m, \u001B[38;5;34m3\u001B[0m)    │             \u001B[38;5;34m0\u001B[0m │\n",
       "├─────────────────────────────────┼────────────────────────┼───────────────┤\n",
       "│ conv2d_228 (\u001B[38;5;33mConv2D\u001B[0m)             │ (\u001B[38;5;45mNone\u001B[0m, \u001B[38;5;34m112\u001B[0m, \u001B[38;5;34m112\u001B[0m, \u001B[38;5;34m64\u001B[0m)   │         \u001B[38;5;34m9,472\u001B[0m │\n",
       "├─────────────────────────────────┼────────────────────────┼───────────────┤\n",
       "│ batch_normalization_201         │ (\u001B[38;5;45mNone\u001B[0m, \u001B[38;5;34m112\u001B[0m, \u001B[38;5;34m112\u001B[0m, \u001B[38;5;34m64\u001B[0m)   │           \u001B[38;5;34m256\u001B[0m │\n",
       "│ (\u001B[38;5;33mBatchNormalization\u001B[0m)            │                        │               │\n",
       "├─────────────────────────────────┼────────────────────────┼───────────────┤\n",
       "│ re_lu_26 (\u001B[38;5;33mReLU\u001B[0m)                 │ (\u001B[38;5;45mNone\u001B[0m, \u001B[38;5;34m112\u001B[0m, \u001B[38;5;34m112\u001B[0m, \u001B[38;5;34m64\u001B[0m)   │             \u001B[38;5;34m0\u001B[0m │\n",
       "├─────────────────────────────────┼────────────────────────┼───────────────┤\n",
       "│ max_pooling2d_21 (\u001B[38;5;33mMaxPooling2D\u001B[0m) │ (\u001B[38;5;45mNone\u001B[0m, \u001B[38;5;34m56\u001B[0m, \u001B[38;5;34m56\u001B[0m, \u001B[38;5;34m64\u001B[0m)     │             \u001B[38;5;34m0\u001B[0m │\n",
       "├─────────────────────────────────┼────────────────────────┼───────────────┤\n",
       "│ dense_36 (\u001B[38;5;33mDense\u001B[0m)                │ (\u001B[38;5;45mNone\u001B[0m, \u001B[38;5;34m56\u001B[0m, \u001B[38;5;34m56\u001B[0m, \u001B[38;5;34m5\u001B[0m)      │           \u001B[38;5;34m325\u001B[0m │\n",
       "└─────────────────────────────────┴────────────────────────┴───────────────┘\n"
      ],
      "text/html": [
       "<pre style=\"white-space:pre;overflow-x:auto;line-height:normal;font-family:Menlo,'DejaVu Sans Mono',consolas,'Courier New',monospace\">┏━━━━━━━━━━━━━━━━━━━━━━━━━━━━━━━━━┳━━━━━━━━━━━━━━━━━━━━━━━━┳━━━━━━━━━━━━━━━┓\n",
       "┃<span style=\"font-weight: bold\"> Layer (type)                    </span>┃<span style=\"font-weight: bold\"> Output Shape           </span>┃<span style=\"font-weight: bold\">       Param # </span>┃\n",
       "┡━━━━━━━━━━━━━━━━━━━━━━━━━━━━━━━━━╇━━━━━━━━━━━━━━━━━━━━━━━━╇━━━━━━━━━━━━━━━┩\n",
       "│ input_layer_57 (<span style=\"color: #0087ff; text-decoration-color: #0087ff\">InputLayer</span>)     │ (<span style=\"color: #00d7ff; text-decoration-color: #00d7ff\">None</span>, <span style=\"color: #00af00; text-decoration-color: #00af00\">224</span>, <span style=\"color: #00af00; text-decoration-color: #00af00\">224</span>, <span style=\"color: #00af00; text-decoration-color: #00af00\">3</span>)    │             <span style=\"color: #00af00; text-decoration-color: #00af00\">0</span> │\n",
       "├─────────────────────────────────┼────────────────────────┼───────────────┤\n",
       "│ conv2d_228 (<span style=\"color: #0087ff; text-decoration-color: #0087ff\">Conv2D</span>)             │ (<span style=\"color: #00d7ff; text-decoration-color: #00d7ff\">None</span>, <span style=\"color: #00af00; text-decoration-color: #00af00\">112</span>, <span style=\"color: #00af00; text-decoration-color: #00af00\">112</span>, <span style=\"color: #00af00; text-decoration-color: #00af00\">64</span>)   │         <span style=\"color: #00af00; text-decoration-color: #00af00\">9,472</span> │\n",
       "├─────────────────────────────────┼────────────────────────┼───────────────┤\n",
       "│ batch_normalization_201         │ (<span style=\"color: #00d7ff; text-decoration-color: #00d7ff\">None</span>, <span style=\"color: #00af00; text-decoration-color: #00af00\">112</span>, <span style=\"color: #00af00; text-decoration-color: #00af00\">112</span>, <span style=\"color: #00af00; text-decoration-color: #00af00\">64</span>)   │           <span style=\"color: #00af00; text-decoration-color: #00af00\">256</span> │\n",
       "│ (<span style=\"color: #0087ff; text-decoration-color: #0087ff\">BatchNormalization</span>)            │                        │               │\n",
       "├─────────────────────────────────┼────────────────────────┼───────────────┤\n",
       "│ re_lu_26 (<span style=\"color: #0087ff; text-decoration-color: #0087ff\">ReLU</span>)                 │ (<span style=\"color: #00d7ff; text-decoration-color: #00d7ff\">None</span>, <span style=\"color: #00af00; text-decoration-color: #00af00\">112</span>, <span style=\"color: #00af00; text-decoration-color: #00af00\">112</span>, <span style=\"color: #00af00; text-decoration-color: #00af00\">64</span>)   │             <span style=\"color: #00af00; text-decoration-color: #00af00\">0</span> │\n",
       "├─────────────────────────────────┼────────────────────────┼───────────────┤\n",
       "│ max_pooling2d_21 (<span style=\"color: #0087ff; text-decoration-color: #0087ff\">MaxPooling2D</span>) │ (<span style=\"color: #00d7ff; text-decoration-color: #00d7ff\">None</span>, <span style=\"color: #00af00; text-decoration-color: #00af00\">56</span>, <span style=\"color: #00af00; text-decoration-color: #00af00\">56</span>, <span style=\"color: #00af00; text-decoration-color: #00af00\">64</span>)     │             <span style=\"color: #00af00; text-decoration-color: #00af00\">0</span> │\n",
       "├─────────────────────────────────┼────────────────────────┼───────────────┤\n",
       "│ dense_36 (<span style=\"color: #0087ff; text-decoration-color: #0087ff\">Dense</span>)                │ (<span style=\"color: #00d7ff; text-decoration-color: #00d7ff\">None</span>, <span style=\"color: #00af00; text-decoration-color: #00af00\">56</span>, <span style=\"color: #00af00; text-decoration-color: #00af00\">56</span>, <span style=\"color: #00af00; text-decoration-color: #00af00\">5</span>)      │           <span style=\"color: #00af00; text-decoration-color: #00af00\">325</span> │\n",
       "└─────────────────────────────────┴────────────────────────┴───────────────┘\n",
       "</pre>\n"
      ]
     },
     "metadata": {},
     "output_type": "display_data"
    },
    {
     "data": {
      "text/plain": [
       "\u001B[1m Total params: \u001B[0m\u001B[38;5;34m10,053\u001B[0m (39.27 KB)\n"
      ],
      "text/html": [
       "<pre style=\"white-space:pre;overflow-x:auto;line-height:normal;font-family:Menlo,'DejaVu Sans Mono',consolas,'Courier New',monospace\"><span style=\"font-weight: bold\"> Total params: </span><span style=\"color: #00af00; text-decoration-color: #00af00\">10,053</span> (39.27 KB)\n",
       "</pre>\n"
      ]
     },
     "metadata": {},
     "output_type": "display_data"
    },
    {
     "data": {
      "text/plain": [
       "\u001B[1m Trainable params: \u001B[0m\u001B[38;5;34m9,925\u001B[0m (38.77 KB)\n"
      ],
      "text/html": [
       "<pre style=\"white-space:pre;overflow-x:auto;line-height:normal;font-family:Menlo,'DejaVu Sans Mono',consolas,'Courier New',monospace\"><span style=\"font-weight: bold\"> Trainable params: </span><span style=\"color: #00af00; text-decoration-color: #00af00\">9,925</span> (38.77 KB)\n",
       "</pre>\n"
      ]
     },
     "metadata": {},
     "output_type": "display_data"
    },
    {
     "data": {
      "text/plain": [
       "\u001B[1m Non-trainable params: \u001B[0m\u001B[38;5;34m128\u001B[0m (512.00 B)\n"
      ],
      "text/html": [
       "<pre style=\"white-space:pre;overflow-x:auto;line-height:normal;font-family:Menlo,'DejaVu Sans Mono',consolas,'Courier New',monospace\"><span style=\"font-weight: bold\"> Non-trainable params: </span><span style=\"color: #00af00; text-decoration-color: #00af00\">128</span> (512.00 B)\n",
       "</pre>\n"
      ]
     },
     "metadata": {},
     "output_type": "display_data"
    }
   ],
   "execution_count": 85
  },
  {
   "metadata": {
    "ExecuteTime": {
     "end_time": "2024-09-08T18:24:16.962140Z",
     "start_time": "2024-09-08T18:24:16.958985Z"
    }
   },
   "cell_type": "code",
   "source": "",
   "id": "c3af00dec2d3a877",
   "outputs": [],
   "execution_count": 85
  }
 ],
 "metadata": {
  "kernelspec": {
   "display_name": "Python 3",
   "language": "python",
   "name": "python3"
  },
  "language_info": {
   "codemirror_mode": {
    "name": "ipython",
    "version": 2
   },
   "file_extension": ".py",
   "mimetype": "text/x-python",
   "name": "python",
   "nbconvert_exporter": "python",
   "pygments_lexer": "ipython2",
   "version": "2.7.6"
  }
 },
 "nbformat": 4,
 "nbformat_minor": 5
}
